{
 "cells": [
  {
   "cell_type": "code",
   "execution_count": 19,
   "metadata": {},
   "outputs": [],
   "source": [
    "import json\n",
    "import pandas as pd\n",
    "import numpy as np\n",
    "from statistics import mean\n",
    "import glob"
   ]
  },
  {
   "cell_type": "code",
   "execution_count": 20,
   "metadata": {},
   "outputs": [],
   "source": [
    "def extract_fd_vals(json_file):\n",
    "    f = open(json_file)\n",
    "    data = json.load(f)\n",
    "    fd_data = data['fd_mean'] \n",
    "    f.close() \n",
    "    return fd_data"
   ]
  },
  {
   "cell_type": "code",
   "execution_count": 21,
   "metadata": {},
   "outputs": [],
   "source": [
    "def mean_fd_val(sub):\n",
    "    fd_list = []\n",
    "    for json_file in glob.glob(f'../derivatives/mriqc/derivatives/sub-{sub}*_bold.json'):\n",
    "        fd_list.append(extract_fd_vals(json_file))\n",
    "    return np.mean(fd_list)\n",
    "\n",
    "def trial_fd_val(sub, run, condition, block):\n",
    "    y = glob.glob(f'../derivatives/mriqc/derivatives/sub-{subnum}_task-sr{condition}{block}_run-0{run}_bold.json')\n",
    "    #print(sub)\n",
    "    return  extract_fd_vals(y[0])"
   ]
  },
  {
   "cell_type": "code",
   "execution_count": 22,
   "metadata": {},
   "outputs": [],
   "source": [
    "test_file = pd.read_csv('test_output.csv')"
   ]
  },
  {
   "cell_type": "code",
   "execution_count": 23,
   "metadata": {},
   "outputs": [
    {
     "name": "stdout",
     "output_type": "stream",
     "text": [
      "                     Unnamed: 0  Starting Volume  Length in Volumes  \\\n",
      "0     3847_doors__run_1_block_a                0                 66   \n",
      "1     3847_doors__run_1_block_b               66                 64   \n",
      "2     3847_doors__run_2_block_a                0                 66   \n",
      "3     3847_doors__run_2_block_b               66                 64   \n",
      "4    3847_social__run_1_block_a                0                 66   \n",
      "..                          ...              ...                ...   \n",
      "235   3890_doors__run_2_block_b               66                 64   \n",
      "236  3890_social__run_1_block_a                0                 66   \n",
      "237  3890_social__run_1_block_b               66                 64   \n",
      "238  3890_social__run_2_block_a                0                 66   \n",
      "239  3890_social__run_2_block_b               66                 64   \n",
      "\n",
      "    Long or Short Block Type Condition  Run Number  N Volumes  \\\n",
      "0            long          a     doors           1  66.333333   \n",
      "1           short          b     doors           1  63.333333   \n",
      "2            long          a     doors           2  66.333333   \n",
      "3           short          b     doors           2  63.333333   \n",
      "4            long          a    social           1  66.333333   \n",
      "..            ...        ...       ...         ...        ...   \n",
      "235         short          b     doors           2  63.333333   \n",
      "236          long          a    social           1  66.333333   \n",
      "237         short          b    social           1  63.333333   \n",
      "238          long          a    social           2  66.333333   \n",
      "239         short          b    social           2  63.333333   \n",
      "\n",
      "    Instruction Valence  \n",
      "0              positive  \n",
      "1              negative  \n",
      "2              negative  \n",
      "3              positive  \n",
      "4              positive  \n",
      "..                  ...  \n",
      "235            positive  \n",
      "236            positive  \n",
      "237            negative  \n",
      "238            negative  \n",
      "239            positive  \n",
      "\n",
      "[240 rows x 9 columns]\n"
     ]
    }
   ],
   "source": [
    "print(test_file)"
   ]
  },
  {
   "cell_type": "code",
   "execution_count": 26,
   "metadata": {
    "scrolled": true
   },
   "outputs": [],
   "source": [
    "test_file_ordering = []\n",
    "    \n",
    "for row in test_file.iterrows():\n",
    "    run = row[1][6]\n",
    "    subnum = row[1][0][:4]\n",
    "    condition = row[1][5]\n",
    "    condition = condition.capitalize()\n",
    "    valence = row[1][8]\n",
    "    block = row[1][4]\n",
    "    \n",
    "    mean_fd_sub = mean_fd_val(subnum)\n",
    "    \n",
    "    mean_fd_run = trial_fd_val(subnum, run, condition, block)\n",
    "    \n",
    "    fd = (mean_fd_run - mean_fd_sub)\n",
    "    \n",
    "    test_file_ordering.append([subnum, f\"L1_task-sr{condition}{block}_model-01_type-act_run-0{run}_sm-6_variant-dctAROMAnonaggr.feat\", valence, fd])\n",
    "            \n",
    "    df = pd.DataFrame(data = test_file_ordering, columns = ['subject', 'L1', 'inst. valence', 'demeaned fd'])\n",
    "\n",
    "    \n",
    "    \n",
    "per_sub = np.array_split(df, 30)"
   ]
  },
  {
   "cell_type": "code",
   "execution_count": 62,
   "metadata": {
    "scrolled": true
   },
   "outputs": [
    {
     "name": "stdout",
     "output_type": "stream",
     "text": [
      "3886 L1_task-srDoorsa_model-01_type-act_run-01_sm-6_variant-dctAROMAnonaggr.feat L1_task-srDoorsb_model-01_type-act_run-02_sm-6_variant-dctAROMAnonaggr.feat L1_task-srSocialb_model-01_type-act_run-01_sm-6_variant-dctAROMAnonaggr.feat L1_task-srSociala_model-01_type-act_run-02_sm-6_variant-dctAROMAnonaggr.feat L1_task-srDoorsb_model-01_type-act_run-01_sm-6_variant-dctAROMAnonaggr.feat L1_task-srDoorsa_model-01_type-act_run-02_sm-6_variant-dctAROMAnonaggr.feat L1_task-srSociala_model-01_type-act_run-01_sm-6_variant-dctAROMAnonaggr.feat L1_task-srSocialb_model-01_type-act_run-02_sm-6_variant-dctAROMAnonaggr.feat\n"
     ]
    }
   ],
   "source": [
    "for i in per_sub[8:9]:\n",
    "    sub = i.iloc[0][0]\n",
    "    \n",
    "    \n",
    "    sorted_vals = i.sort_values(by = 'inst. valence')\n",
    "    \n",
    "    l1_models = sorted_vals.iloc[0:, 1].tolist()\n",
    "    l1_command = \" \".join([j for j in l1_models])\n",
    "    print(sub, l1_command)\n",
    "    \n",
    "    #sorted_vals = i.sort_values(by = 'inst. valence')\n",
    " \n",
    "    \n",
    "    #fd_list = sorted_vals.iloc[0:, 3].to_list()\n",
    "    #fd_command = \" \".join([str(j) for j in fd_list])\n",
    "    #print(sub, len(l1_models) == 8)\n",
    "    #!echo ./models/L2_combine_socialDoors.sh $sub  $l1_command $fd_command"
   ]
  },
  {
   "cell_type": "code",
   "execution_count": null,
   "metadata": {
    "scrolled": false
   },
   "outputs": [],
   "source": [
    "#write out dfs \n",
    "\n",
    "for i in per_sub[0:1]:\n",
    "    sub = i.iloc[0][0]\n",
    "    #i.to_csv(f\"../derivatives/l2_tests/{i.iloc[0][0]}.csv\", index = False)\n",
    "    \n",
    "    sorted_vals = i.sort_values(by = 'inst. valence')\n",
    "    l1_models = sorted_vals.iloc[0:, 1].tolist()\n",
    "    l1_command = \" \".join([j for j in l1_models])\n",
    "    \n",
    "    \n",
    "    sorted_vals = i.sort_values(by = 'inst. valence')\n",
    " \n",
    "    \n",
    "    fd_list = sorted_vals.iloc[0:, 3].to_list()\n",
    "    fd_command = \" \".join([str(j) for j in fd_list])\n",
    "    print(sub, len(l1_models) == 8)\n",
    "    !echo ./models/L2_combine_socialDoors.sh $sub  $l1_command $fd_command"
   ]
  },
  {
   "cell_type": "code",
   "execution_count": null,
   "metadata": {},
   "outputs": [],
   "source": []
  },
  {
   "cell_type": "code",
   "execution_count": null,
   "metadata": {},
   "outputs": [],
   "source": []
  }
 ],
 "metadata": {
  "kernelspec": {
   "display_name": "Python 3",
   "language": "python",
   "name": "python3"
  },
  "language_info": {
   "codemirror_mode": {
    "name": "ipython",
    "version": 3
   },
   "file_extension": ".py",
   "mimetype": "text/x-python",
   "name": "python",
   "nbconvert_exporter": "python",
   "pygments_lexer": "ipython3",
   "version": "3.6.9"
  }
 },
 "nbformat": 4,
 "nbformat_minor": 2
}
