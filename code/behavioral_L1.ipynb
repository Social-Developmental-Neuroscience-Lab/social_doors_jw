{
 "cells": [
  {
   "cell_type": "markdown",
   "metadata": {},
   "source": [
    "# Run First Level Stats"
   ]
  },
  {
   "cell_type": "code",
   "execution_count": null,
   "metadata": {
    "scrolled": false
   },
   "outputs": [
    {
     "name": "stdout",
     "output_type": "stream",
     "text": [
      "3877\n",
      "a 64 Doors\n",
      "/data/projects/STUDIES/social_doors_jw\n",
      "./models/L1_task-srDoorsa_model-01.sh: line 62: /data/projects/STUDIES/social_doors_jw/code/templates/design.fsf: No such file or directory\n",
      "grep: /data/projects/STUDIES/social_doors_jw/derivatives/fsl/results/lowerLv_results/sub-3877/L1_task-srDoorsa_model-01_seed-0_run-02_variant-dctAROMAnonaggr.fsf: No such file or directory\n",
      "    while executing\n",
      "\"exec sh -c \"grep -a 'fmri(inmelodic)' $filename | tail -n 1 | awk '{ print \\$3 }'\" \"\n",
      "    (procedure \"feat5:load\" line 5)\n",
      "    invoked from within\n",
      "\"feat5:load -1 1 ${fsfroot}.fsf\"\n",
      "    (file \"/usr/share/fsl/5.0/bin/feat\" line 306)\n",
      "/data/projects/STUDIES/social_doors_jw\n",
      "./models/L1_task-srDoorsa_model-01.sh: line 62: /data/projects/STUDIES/social_doors_jw/code/templates/design.fsf: No such file or directory\n",
      "grep: /data/projects/STUDIES/social_doors_jw/derivatives/fsl/results/lowerLv_results/sub-3877/L1_task-srDoorsa_model-01_seed-0_run-01_variant-dctAROMAnonaggr.fsf: No such file or directory\n",
      "    while executing\n",
      "\"exec sh -c \"grep -a 'fmri(inmelodic)' $filename | tail -n 1 | awk '{ print \\$3 }'\" \"\n",
      "    (procedure \"feat5:load\" line 5)\n",
      "    invoked from within\n",
      "\"feat5:load -1 1 ${fsfroot}.fsf\"\n",
      "    (file \"/usr/share/fsl/5.0/bin/feat\" line 306)\n",
      "b 66 Doors\n",
      "To view the FEAT progress and final report, point your web browser at /data/projects/STUDIES/social_doors_jw/derivatives/fsl/results/lowerLv_results/sub-3877/L1_task-srDoorsb_model-01_type-act_run-02_sm-6_variant-dctAROMAnonaggr.feat/report_log.html\n"
     ]
    }
   ],
   "source": [
    "import glob\n",
    "from csv import reader\n",
    "\n",
    "\n",
    "for i in glob.glob('../behavior/EVfiles/*'):\n",
    "    sub_number = i[20:24]\n",
    "    print(sub_number)\n",
    "    with open('test_output.csv', 'r') as read_obj:\n",
    "        csv_reader = reader(read_obj)\n",
    "        # Iterate over each row in the csv using reader object\n",
    "        for row in csv_reader:\n",
    "            if sub_number == row[0][:4]:\n",
    "                trial_type = row[0][-1:]\n",
    "                nvols = row[2]\n",
    "                condition = row[0][5:11]\n",
    "                condition = condition.replace(\"_\", \"\").capitalize()\n",
    "                print(trial_type, nvols, condition)\n",
    "                !./models/L1_task-sr$condition$trial_type\\_\\model-01.sh $sub_number 2 0 6 $nvols\n",
    "                !./models/L1_task-sr$condition$trial_type\\_\\model-01.sh $sub_number 1 0 6 $nvols\n",
    "        read_obj.close()"
   ]
  },
  {
   "cell_type": "code",
   "execution_count": null,
   "metadata": {},
   "outputs": [],
   "source": []
  }
 ],
 "metadata": {
  "kernelspec": {
   "display_name": "Python 3",
   "language": "python",
   "name": "python3"
  },
  "language_info": {
   "codemirror_mode": {
    "name": "ipython",
    "version": 3
   },
   "file_extension": ".py",
   "mimetype": "text/x-python",
   "name": "python",
   "nbconvert_exporter": "python",
   "pygments_lexer": "ipython3",
   "version": "3.6.9"
  }
 },
 "nbformat": 4,
 "nbformat_minor": 2
}
