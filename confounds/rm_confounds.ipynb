{
 "cells": [
  {
   "cell_type": "code",
   "execution_count": null,
   "metadata": {},
   "outputs": [],
   "source": [
    "import pandas as pd\n",
    "import glob"
   ]
  },
  {
   "cell_type": "code",
   "execution_count": null,
   "metadata": {},
   "outputs": [],
   "source": [
    "# Read in all confound tsv files into a directory\n",
    "\n",
    "confound_directory = glob.glob(\"/data/projects/STUDIES/social_doors_jw/confounds/sub-*/*.tsv\")\n",
    "print(confound_directory)"
   ]
  },
  {
   "cell_type": "code",
   "execution_count": null,
   "metadata": {},
   "outputs": [],
   "source": [
    "# Test pd.read_table to read in tsv files\n",
    "\n",
    "df = pd.read_csv(\"/data/projects/STUDIES/social_doors_jw/confounds/sub-3836/sub-3836_task-srDoors_run-1_desc-fslConfounds.tsv\", sep=\"\\t\")\n",
    "df.head()"
   ]
  },
  {
   "cell_type": "code",
   "execution_count": null,
   "metadata": {},
   "outputs": [],
   "source": [
    "# Loop that iterates through confound_directory and deletes the last two columns (csf and white matter); \n",
    "# outputs new csv files that replace previous ones\n",
    "\n",
    "for f in confound_directory:\n",
    "    df = pd.read_csv(f, sep=\"\\t\")\n",
    "    df = df.iloc[:][:-2]\n",
    "    df.to_csv(f, sep=\"\\t\")"
   ]
  },
  {
   "cell_type": "code",
   "execution_count": null,
   "metadata": {},
   "outputs": [],
   "source": []
  }
 ],
 "metadata": {
  "kernelspec": {
   "display_name": "Python 3",
   "language": "python",
   "name": "python3"
  },
  "language_info": {
   "codemirror_mode": {
    "name": "ipython",
    "version": 3
   },
   "file_extension": ".py",
   "mimetype": "text/x-python",
   "name": "python",
   "nbconvert_exporter": "python",
   "pygments_lexer": "ipython3",
   "version": "3.6.9"
  }
 },
 "nbformat": 4,
 "nbformat_minor": 2
}
